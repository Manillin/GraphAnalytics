{
 "cells": [
  {
   "cell_type": "markdown",
   "metadata": {},
   "source": [
    "# Operazione sul dataset"
   ]
  },
  {
   "cell_type": "markdown",
   "metadata": {},
   "source": [
    "Si filtreranno i dati per analizzare le partite per le stagioni 2014/2015 $\\rightarrow$ 2019/2020 (5 stagioni intere)"
   ]
  },
  {
   "cell_type": "code",
   "execution_count": 1,
   "metadata": {},
   "outputs": [],
   "source": [
    "import os \n",
    "os.chdir('/Users/chris/Desktop/GraphAnalytics/GraphAnalytics')\n",
    "#!kaggle datasets download nathanlauga/nba-games"
   ]
  },
  {
   "cell_type": "code",
   "execution_count": 8,
   "metadata": {},
   "outputs": [],
   "source": [
    "import pandas as pd\n",
    "import numpy as np\n",
    "start_season = 2015\n",
    "end_season = 2019\n",
    "\n",
    "games_file = 'games.csv'\n",
    "games_details_file = 'games_details.csv'\n",
    "rankings_file = 'ranking.csv'\n",
    "players_file = 'players.csv'\n",
    "teams_file = 'teams.csv'"
   ]
  },
  {
   "cell_type": "code",
   "execution_count": 5,
   "metadata": {},
   "outputs": [
    {
     "name": "stdout",
     "output_type": "stream",
     "text": [
      "Caricato games.csv con successo. Forma: (26651, 21)\n",
      "\n",
      "Informazioni sulla colonna SEASON in games_df prima del filtro:\n",
      "count    26651.000000\n",
      "mean      2012.113879\n",
      "std          5.587031\n",
      "min       2003.000000\n",
      "25%       2007.000000\n",
      "50%       2012.000000\n",
      "75%       2017.000000\n",
      "max       2022.000000\n",
      "Name: SEASON, dtype: float64\n",
      "Valori unici in SEASON (prima del filtro): [np.int64(2003), np.int64(2004), np.int64(2005), np.int64(2006), np.int64(2007), np.int64(2008), np.int64(2009), np.int64(2010), np.int64(2011), np.int64(2012), np.int64(2013), np.int64(2014), np.int64(2015), np.int64(2016), np.int64(2017), np.int64(2018), np.int64(2019), np.int64(2020), np.int64(2021), np.int64(2022)]\n",
      "\n",
      "Forma di games_filtered_df dopo il filtro stagionale (2015-2019): (6822, 21)\n",
      "Valori unici in SEASON (dopo il filtro): [np.int64(2015), np.int64(2016), np.int64(2017), np.int64(2018), np.int64(2019)]\n",
      "\n",
      "Numero di GAME_ID unici nel periodo 2015-2019: 6822\n"
     ]
    }
   ],
   "source": [
    "games_df = pd.read_csv(games_file)\n",
    "print(f\"Caricato {games_file} con successo. Forma: {games_df.shape}\")\n",
    "print(\"\\nInformazioni sulla colonna SEASON in games_df prima del filtro:\")\n",
    "print(games_df['SEASON'].describe())\n",
    "print(f\"Valori unici in SEASON (prima del filtro): {sorted(games_df['SEASON'].unique())}\")\n",
    "\n",
    "\n",
    "# Filtriamo per le stagioni specificate\n",
    "games_filtered_df = games_df[(games_df['SEASON'] >= start_season) & (games_df['SEASON'] <= end_season)].copy()\n",
    "\n",
    "print(f\"\\nForma di games_filtered_df dopo il filtro stagionale ({start_season}-{end_season}): {games_filtered_df.shape}\")\n",
    "print(f\"Valori unici in SEASON (dopo il filtro): {sorted(games_filtered_df['SEASON'].unique())}\")\n",
    "\n",
    "\n",
    "# Otteniamo gli ID delle partite filtrate\n",
    "filtered_game_ids = games_filtered_df['GAME_ID'].unique()\n",
    "print(f\"\\nNumero di GAME_ID unici nel periodo {start_season}-{end_season}: {len(filtered_game_ids)}\")"
   ]
  },
  {
   "cell_type": "code",
   "execution_count": 6,
   "metadata": {},
   "outputs": [
    {
     "name": "stdout",
     "output_type": "stream",
     "text": [
      "\n",
      "Caricato games_details.csv con successo. Forma: (668628, 29)\n",
      "\n",
      "Forma di games_details_filtered_df dopo il filtro per GAME_ID: (177473, 29)\n"
     ]
    }
   ],
   "source": [
    "games_details_df = pd.read_csv(games_details_file, low_memory=False)\n",
    "print(f\"\\nCaricato {games_details_file} con successo. Forma: {games_details_df.shape}\")\n",
    "# print(\"Prime righe di games_details_df:\")\n",
    "# print(games_details_df.head())\n",
    "\n",
    "games_details_filtered_df = games_details_df[games_details_df['GAME_ID'].isin(filtered_game_ids)].copy()\n",
    "\n",
    "print(f\"\\nForma di games_details_filtered_df dopo il filtro per GAME_ID: {games_details_filtered_df.shape}\")"
   ]
  },
  {
   "cell_type": "code",
   "execution_count": 12,
   "metadata": {},
   "outputs": [
    {
     "name": "stdout",
     "output_type": "stream",
     "text": [
      "\n",
      "Caricato ranking.csv con successo. Forma: (210342, 13)\n",
      "Valori unici in SEASON_ID (originale): ['12003', '12004', '12005', '12006', '12007', '12008', '12009', '12010', '12011', '12012', '12013', '12014', '12015', '12016', '12017', '12018', '12019', '12020', '12021', '12022']...\n",
      "SEASON_ID per il filtro su rankings: da 22015 a 22019\n",
      "\n",
      "Forma di rankings_filtered_df dopo il filtro stagionale: (53490, 14)\n",
      "Prime righe di rankings_filtered_df:\n",
      "          TEAM_ID  LEAGUE_ID  SEASON_ID STANDINGSDATE CONFERENCE  \\\n",
      "22154  1610612747          0      22019    2020-12-10       West   \n",
      "22155  1610612746          0      22019    2020-12-10       West   \n",
      "22156  1610612743          0      22019    2020-12-10       West   \n",
      "22157  1610612745          0      22019    2020-12-10       West   \n",
      "22158  1610612760          0      22019    2020-12-10       West   \n",
      "\n",
      "                TEAM   G   W   L  W_PCT HOME_RECORD ROAD_RECORD  RETURNTOPLAY  \\\n",
      "22154    L.A. Lakers  71  52  19  0.732       25-10        27-9           NaN   \n",
      "22155    LA Clippers  72  49  23  0.681        27-9       22-14           NaN   \n",
      "22156         Denver  73  46  27  0.630       26-11       20-16           NaN   \n",
      "22157        Houston  72  44  28  0.611       24-12       20-16           NaN   \n",
      "22158  Oklahoma City  72  44  28  0.611       23-14       21-14           NaN   \n",
      "\n",
      "       SEASON_ID_NUM  \n",
      "22154          22019  \n",
      "22155          22019  \n",
      "22156          22019  \n",
      "22157          22019  \n",
      "22158          22019  \n",
      "Valori unici in SEASON_ID (dopo filtro): [np.int64(22015), np.int64(22016), np.int64(22017), np.int64(22018), np.int64(22019)]\n"
     ]
    }
   ],
   "source": [
    "# Carichiamo il file rankings.csv\n",
    "\n",
    "rankings_df = pd.read_csv(rankings_file)\n",
    "print(f\"\\nCaricato {rankings_file} con successo. Forma: {rankings_df.shape}\")\n",
    "\n",
    "# Convertiamo SEASON_ID in numerico\n",
    "rankings_df['SEASON_ID_NUM'] = pd.to_numeric(rankings_df['SEASON_ID'], errors='coerce')\n",
    "\n",
    "print(f\"Valori unici in SEASON_ID (originale): {sorted(rankings_df['SEASON_ID'].astype(str).unique())[:20]}...\")\n",
    "\n",
    "# Logica per il formato \"2YYYY\"\n",
    "season_id_start_rank = int(f\"2{start_season}\") \n",
    "season_id_end_rank = int(f\"2{end_season}\")\n",
    "\n",
    "print(f\"SEASON_ID per il filtro su rankings: da {season_id_start_rank} a {season_id_end_rank}\")\n",
    "\n",
    "rankings_filtered_df = rankings_df[\n",
    "    (rankings_df['SEASON_ID_NUM'] >= season_id_start_rank) & \n",
    "    (rankings_df['SEASON_ID_NUM'] <= season_id_end_rank)\n",
    "].copy()\n",
    "\n",
    "print(f\"\\nForma di rankings_filtered_df dopo il filtro stagionale: {rankings_filtered_df.shape}\")\n",
    "print(\"Prime righe di rankings_filtered_df:\")\n",
    "print(rankings_filtered_df.head())\n",
    "if not rankings_filtered_df.empty:\n",
    "    print(f\"Valori unici in SEASON_ID (dopo filtro): {sorted(rankings_filtered_df['SEASON_ID'].unique())}\")"
   ]
  },
  {
   "cell_type": "code",
   "execution_count": 10,
   "metadata": {},
   "outputs": [
    {
     "name": "stdout",
     "output_type": "stream",
     "text": [
      "\n",
      "Caricato players.csv con successo. Forma: (7228, 4)\n",
      "\n",
      "Caricato teams.csv con successo. Forma: (30, 14)\n"
     ]
    }
   ],
   "source": [
    "players_df = pd.read_csv(players_file)\n",
    "print(f\"\\nCaricato {players_file} con successo. Forma: {players_df.shape}\")\n",
    "\n",
    "teams_df = pd.read_csv(teams_file)\n",
    "print(f\"\\nCaricato {teams_file} con successo. Forma: {teams_df.shape}\")"
   ]
  },
  {
   "cell_type": "code",
   "execution_count": 11,
   "metadata": {},
   "outputs": [
    {
     "name": "stdout",
     "output_type": "stream",
     "text": [
      "\n",
      "--- Riepilogo dei DataFrame ---\n",
      "games_df (originale): 26651 righe\n",
      "Games (Stagioni 2015-2019): 6822 righe\n",
      "games_details_df (originale): 668628 righe\n",
      "Dettagli Partite (Stagioni 2015-2019): 177473 righe\n",
      "rankings_df (originale): 210342 righe\n",
      "Rankings (Stagioni 2015-2019): 53490 righe\n",
      "Players (originale): 7228 righe\n",
      "Teams (originale): 30 righe\n"
     ]
    }
   ],
   "source": [
    "print(\"\\n--- Riepilogo dei DataFrame ---\")\n",
    "\n",
    "if 'games_df' in locals() and not games_df.empty:\n",
    "    print(f\"games_df (originale): {games_df.shape[0]} righe\")\n",
    "if 'games_filtered_df' in locals() and not games_filtered_df.empty:\n",
    "    print(f\"Games (Stagioni {start_season}-{end_season}): {games_filtered_df.shape[0]} righe\")\n",
    "else:\n",
    "    print(f\"games_filtered_df non disponibile o vuoto.\")\n",
    "\n",
    "if 'games_details_df' in locals() and not games_details_df.empty:\n",
    "    print(f\"games_details_df (originale): {games_details_df.shape[0]} righe\")\n",
    "if 'games_details_filtered_df' in locals() and not games_details_filtered_df.empty:\n",
    "    print(f\"Dettagli Partite (Stagioni {start_season}-{end_season}): {games_details_filtered_df.shape[0]} righe\")\n",
    "else:\n",
    "    print(f\"games_details_filtered_df non disponibile o vuoto.\")\n",
    "\n",
    "if 'rankings_df' in locals() and not rankings_df.empty:\n",
    "    print(f\"rankings_df (originale): {rankings_df.shape[0]} righe\")\n",
    "if 'rankings_filtered_df' in locals() and not rankings_filtered_df.empty:\n",
    "    print(f\"Rankings (Stagioni {start_season}-{end_season}): {rankings_filtered_df.shape[0]} righe\")\n",
    "else:\n",
    "    print(f\"rankings_filtered_df non disponibile o vuoto.\")\n",
    "\n",
    "if 'players_df' in locals() and not players_df.empty:\n",
    "    print(f\"Players (originale): {players_df.shape[0]} righe\")\n",
    "else:\n",
    "    print(f\"players_df non disponibile o vuoto.\")\n",
    "\n",
    "if 'teams_df' in locals() and not teams_df.empty:\n",
    "    print(f\"Teams (originale): {teams_df.shape[0]} righe\")\n",
    "else:\n",
    "    print(f\"teams_df non disponibile o vuoto.\")"
   ]
  },
  {
   "cell_type": "code",
   "execution_count": 13,
   "metadata": {},
   "outputs": [],
   "source": [
    "games_filtered_file_out = f\"games_filtered.csv\"\n",
    "games_details_filtered_file_out = f\"games_details_filtered.csv\"\n",
    "rankings_filtered_file_out = f\"rankings_filtered.csv\"\n",
    "players_file_out = f\"players_for_neo4j.csv\"\n",
    "teams_file_out = f\"teams_for_neo4j.csv\"\n",
    "\n",
    "games_filtered_df.to_csv(games_filtered_file_out, index=False)\n",
    "games_details_filtered_df.to_csv(games_details_filtered_file_out, index=False)\n",
    "rankings_filtered_df.to_csv(rankings_filtered_file_out, index=False)\n",
    "players_df.to_csv(players_file_out, index=False)\n",
    "teams_df.to_csv(teams_file_out, index=False)"
   ]
  },
  {
   "cell_type": "code",
   "execution_count": 20,
   "metadata": {},
   "outputs": [
    {
     "data": {
      "text/plain": [
       "TEAM_ID              0\n",
       "LEAGUE_ID            0\n",
       "SEASON_ID            0\n",
       "STANDINGSDATE        0\n",
       "CONFERENCE           0\n",
       "TEAM                 0\n",
       "G                    0\n",
       "W                    0\n",
       "L                    0\n",
       "W_PCT                0\n",
       "HOME_RECORD          0\n",
       "ROAD_RECORD          0\n",
       "RETURNTOPLAY     49500\n",
       "SEASON_ID_NUM        0\n",
       "dtype: int64"
      ]
     },
     "execution_count": 20,
     "metadata": {},
     "output_type": "execute_result"
    }
   ],
   "source": [
    "rankings_filtered_df.isna().sum()"
   ]
  },
  {
   "cell_type": "markdown",
   "metadata": {},
   "source": [
    "Creazione di una colonna `MIN_SECS` a partire dalla colonna `MIN` (formato: MM:SS) per facilitare le analisi"
   ]
  },
  {
   "cell_type": "code",
   "execution_count": 1,
   "metadata": {},
   "outputs": [
    {
     "name": "stdout",
     "output_type": "stream",
     "text": [
      "Pre-processamento colonna MIN in corso...\n",
      "Colonna 'MIN_SECONDS' creata e i NaN riempiti con 0.\n"
     ]
    },
    {
     "name": "stderr",
     "output_type": "stream",
     "text": [
      "/var/folders/mz/2x3r_7v12sl_hfwrgd4nzpm00000gn/T/ipykernel_8016/3870949948.py:42: FutureWarning: A value is trying to be set on a copy of a DataFrame or Series through chained assignment using an inplace method.\n",
      "The behavior will change in pandas 3.0. This inplace method will never work because the intermediate object on which we are setting values always behaves as a copy.\n",
      "\n",
      "For example, when doing 'df[col].method(value, inplace=True)', try using 'df.method({col: value}, inplace=True)' or df[col] = df[col].method(value) instead, to perform the operation inplace on the original object.\n",
      "\n",
      "\n",
      "  games_details_filtered_df['MIN_SECONDS'].fillna(0, inplace=True)\n"
     ]
    }
   ],
   "source": [
    "def convert_min_to_seconds(time_str):\n",
    "    if pd.isna(time_str): # Gestisce i NaN (giocatori DNP)\n",
    "        return np.nan\n",
    "    try:\n",
    "        parts = str(time_str).split(':')\n",
    "        if len(parts) == 2:\n",
    "            minutes = int(parts[0])\n",
    "            seconds = int(parts[1])\n",
    "            total_seconds = (minutes * 60) + seconds\n",
    "            return total_seconds\n",
    "        elif len(parts) == 1:\n",
    "            return int(float(parts[0])) \n",
    "        else: # Formato non riconosciuto\n",
    "            return np.nan \n",
    "    except ValueError: # Se la conversione a int fallisce\n",
    "        print('ERRORE ERRORE --- ERRORE ERRORE')\n",
    "        return np.nan # gestisci l'errore - check\n",
    "\n",
    "# Applica la conversione alla colonna 'MIN' per creare una nuova colonna 'MIN_SECONDS'\n",
    "games_details_filtered_df = pd.read_csv('games_details_filtered.csv')\n",
    "print(\"Pre-processamento colonna MIN in corso...\")\n",
    "games_details_filtered_df['MIN_SECONDS'] = games_details_filtered_df['MIN'].apply(convert_min_to_seconds)\n",
    "\n",
    "games_details_filtered_df['MIN_SECONDS'].fillna(0, inplace=True)\n",
    "\n",
    "# Conversione della nuova colonna in intero (dato che ora non ci sono NaN)\n",
    "games_details_filtered_df['MIN_SECONDS'] = games_details_filtered_df['MIN_SECONDS'].astype(int)\n",
    "print(\"Colonna 'MIN_SECONDS' creata e i NaN riempiti con 0.\")"
   ]
  },
  {
   "cell_type": "code",
   "execution_count": 6,
   "metadata": {},
   "outputs": [],
   "source": [
    "games_details_filtered_file_out = f\"games_details_filtered.csv\"\n",
    "games_details_filtered_df.to_csv(games_details_filtered_file_out, index=False)"
   ]
  }
 ],
 "metadata": {
  "kernelspec": {
   "display_name": "Lab-YkoVauK0",
   "language": "python",
   "name": "python3"
  },
  "language_info": {
   "codemirror_mode": {
    "name": "ipython",
    "version": 3
   },
   "file_extension": ".py",
   "mimetype": "text/x-python",
   "name": "python",
   "nbconvert_exporter": "python",
   "pygments_lexer": "ipython3",
   "version": "3.13.2"
  }
 },
 "nbformat": 4,
 "nbformat_minor": 2
}
